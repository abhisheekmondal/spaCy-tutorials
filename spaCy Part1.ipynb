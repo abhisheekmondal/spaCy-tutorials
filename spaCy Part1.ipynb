{
 "cells": [
  {
   "cell_type": "code",
   "execution_count": 12,
   "metadata": {},
   "outputs": [
    {
     "data": {
      "text/plain": [
       "['tagger', 'parser', 'ner']"
      ]
     },
     "execution_count": 12,
     "metadata": {},
     "output_type": "execute_result"
    }
   ],
   "source": [
    "import spacy\n",
    "nlp=spacy.load('en_core_web_sm')\n",
    "\n",
    "nlp.pipe_names"
   ]
  },
  {
   "cell_type": "code",
   "execution_count": 14,
   "metadata": {},
   "outputs": [
    {
     "name": "stdout",
     "output_type": "stream",
     "text": [
      "['This', 'tutorial', 'is', 'about', '\"', 'Natural', 'Language', 'Processing', '\"', 'and', 'it', \"'s\", 'very', 'exciting', '.']\n"
     ]
    }
   ],
   "source": [
    "input_text=(\"\"\"This tutorial is about \"Natural Language Processing\" and it's very exciting.\"\"\")\n",
    "doc=nlp(input_text)\n",
    "print([token.text for token in doc])"
   ]
  },
  {
   "cell_type": "code",
   "execution_count": 15,
   "metadata": {},
   "outputs": [
    {
     "name": "stdout",
     "output_type": "stream",
     "text": [
      "['tutorial', '\"', 'Natural', 'Language', 'Processing', '\"', 'exciting', '.']\n"
     ]
    }
   ],
   "source": [
    "print([token.text for token in doc if not token.is_stop])"
   ]
  },
  {
   "cell_type": "code",
   "execution_count": 16,
   "metadata": {},
   "outputs": [
    {
     "name": "stdout",
     "output_type": "stream",
     "text": [
      "['cook', 'cook', 'cook']\n"
     ]
    }
   ],
   "source": [
    "cook = \"cook cooking cooked\"\n",
    "lemma_doc=nlp(cook)\n",
    "print([token.lemma_ for token in lemma_doc])"
   ]
  },
  {
   "cell_type": "code",
   "execution_count": 22,
   "metadata": {},
   "outputs": [
    {
     "name": "stdout",
     "output_type": "stream",
     "text": [
      "[('William', 'NNP', 'PROPN', 'noun, proper singular'), ('Shakespeare', 'NNP', 'PROPN', 'noun, proper singular'), ('was', 'VBD', 'AUX', 'verb, past tense'), ('an', 'DT', 'DET', 'determiner'), ('English', 'JJ', 'ADJ', 'adjective'), ('playwright', 'NN', 'NOUN', 'noun, singular or mass'), (',', ',', 'PUNCT', 'punctuation mark, comma'), ('poet', 'NN', 'NOUN', 'noun, singular or mass'), (',', ',', 'PUNCT', 'punctuation mark, comma'), ('and', 'CC', 'CCONJ', 'conjunction, coordinating'), ('actor', 'NN', 'NOUN', 'noun, singular or mass'), (',', ',', 'PUNCT', 'punctuation mark, comma'), (\"'\", '``', 'PUNCT', 'opening quotation mark'), ('\\n          ', '_SP', 'SPACE', None), (\"'\", \"''\", 'PUNCT', 'closing quotation mark'), ('widely', 'RB', 'ADV', 'adverb'), ('regarded', 'VBN', 'VERB', 'verb, past participle'), ('as', 'IN', 'SCONJ', 'conjunction, subordinating or preposition'), ('the', 'DT', 'DET', 'determiner'), ('greatest', 'JJS', 'ADJ', 'adjective, superlative'), ('writer', 'NN', 'NOUN', 'noun, singular or mass'), ('in', 'IN', 'ADP', 'conjunction, subordinating or preposition'), ('the', 'DT', 'DET', 'determiner'), ('English', 'JJ', 'ADJ', 'adjective'), ('language', 'NN', 'NOUN', 'noun, singular or mass'), (\"'\", '``', 'PUNCT', 'opening quotation mark'), ('\\n          ', '_SP', 'SPACE', None), (\"'\", \"''\", 'PUNCT', 'closing quotation mark'), ('and', 'CC', 'CCONJ', 'conjunction, coordinating'), ('the', 'DT', 'DET', 'determiner'), ('world', 'NN', 'NOUN', 'noun, singular or mass'), (\"'s\", 'POS', 'PART', 'possessive ending'), ('greatest', 'JJS', 'ADJ', 'adjective, superlative'), ('dramatist', 'NN', 'NOUN', 'noun, singular or mass'), ('.', '.', 'PUNCT', 'punctuation mark, sentence closer')]\n"
     ]
    }
   ],
   "source": [
    "sentence=(\"\"\"William Shakespeare was an English playwright, poet, and actor,' \n",
    "          'widely regarded as the greatest writer in the English language '\n",
    "          'and the world's greatest dramatist.\"\"\")\n",
    "pos_sentence=nlp(sentence)\n",
    "print([(token.text,token.tag_,token.pos_,spacy.explain(token.tag_)) for token in pos_sentence])"
   ]
  },
  {
   "cell_type": "code",
   "execution_count": 27,
   "metadata": {},
   "outputs": [
    {
     "name": "stdout",
     "output_type": "stream",
     "text": [
      "[('William Shakespeare', 0, 19, 'PERSON', 'People, including fictional'), ('English', 27, 34, 'NORP', 'Nationalities or religious or political groups'), ('English', 123, 130, 'LANGUAGE', 'Any named language')]\n"
     ]
    }
   ],
   "source": [
    "sentence=(\"\"\"William Shakespeare was an English playwright, poet, and actor,' \n",
    "          'widely regarded as the greatest writer in the English language '\n",
    "          'and the world's greatest dramatist. His phone number was +918900393436.\"\"\")\n",
    "ner_sentence=nlp(sentence)\n",
    "print([(ent.text,ent.start_char,ent.end_char,ent.label_,spacy.explain(ent.label_)) for ent in ner_sentence.ents])"
   ]
  },
  {
   "cell_type": "code",
   "execution_count": 34,
   "metadata": {},
   "outputs": [
    {
     "name": "stdout",
     "output_type": "stream",
     "text": [
      "Total number of sentences: 2\n",
      "[William Shakespeare was an English playwright, poet, and actor,' \n",
      "          'widely regarded as the greatest writer in the English language., He'\n",
      "          'was the world's greatest dramatist.]\n"
     ]
    }
   ],
   "source": [
    "sentence=(\"\"\"William Shakespeare was an English playwright, poet, and actor,' \n",
    "          'widely regarded as the greatest writer in the English language. He'\n",
    "          'was the world's greatest dramatist.\"\"\")\n",
    "recog_sentence=nlp(sentence)\n",
    "sentences=list(recog_sentence.sents)\n",
    "print('Total number of sentences:',len(sentences))\n",
    "\n",
    "print([lines for lines in sentences])\n"
   ]
  },
  {
   "cell_type": "code",
   "execution_count": 93,
   "metadata": {},
   "outputs": [
    {
     "name": "stdout",
     "output_type": "stream",
     "text": [
      "(123) 456-789\n",
      "(234) 567-890\n"
     ]
    }
   ],
   "source": [
    "from spacy.matcher import Matcher\n",
    "matcher= Matcher(nlp.vocab)\n",
    "input_text=('My friend can be reached at (123) 456-789 . I tried to call her'\n",
    "                'from my number (234) 567-890')\n",
    "\n",
    "def match_phone_number(doc):\n",
    "    pattern=[{'ORTH':'('},{'SHAPE':'ddd'},\n",
    "             {'ORTH':')'},{'SHAPE':'ddd'},\n",
    "             {'ORTH':'-'},{'SHAPE':'ddd'}]\n",
    "    matcher.add('PHONE_NUMBERS',None,pattern)\n",
    "    matches=matcher(doc)\n",
    "    for match_id,start,end in matches:\n",
    "        span=doc[start:end]\n",
    "        print(span.text)\n",
    "    \n",
    "input_text_matcher=nlp(input_text)\n",
    "match_phone_number(input_text_matcher)"
   ]
  },
  {
   "cell_type": "code",
   "execution_count": 82,
   "metadata": {},
   "outputs": [
    {
     "name": "stdout",
     "output_type": "stream",
     "text": [
      "[' ', 'The', 'helpline', 'number', 'of', 'police', 'is', '911', 'in', 'USA', 'and', '100', 'in', 'India', '.', 'I', 'tried', 'to', 'call', 'them', \"'\", '\\n                ', \"'\", 'from', 'my', 'number', '+919000011111']\n"
     ]
    }
   ],
   "source": [
    "input_text=(\"\"\" The helpline number of police is 911 in USA and 100 in India. I tried to call them'\n",
    "                'from my number +919000011111\"\"\")\n",
    "input_text_matcher=nlp(input_text)\n",
    "print([token.text for token in input_text_matcher])"
   ]
  },
  {
   "cell_type": "code",
   "execution_count": null,
   "metadata": {},
   "outputs": [],
   "source": []
  }
 ],
 "metadata": {
  "kernelspec": {
   "display_name": "Python 3",
   "language": "python",
   "name": "python3"
  },
  "language_info": {
   "codemirror_mode": {
    "name": "ipython",
    "version": 3
   },
   "file_extension": ".py",
   "mimetype": "text/x-python",
   "name": "python",
   "nbconvert_exporter": "python",
   "pygments_lexer": "ipython3",
   "version": "3.7.4"
  }
 },
 "nbformat": 4,
 "nbformat_minor": 2
}
